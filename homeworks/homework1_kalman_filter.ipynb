{
 "cells": [
  {
   "cell_type": "markdown",
   "metadata": {},
   "source": [
    "# Home assignment 1: Kalman Filter"
   ]
  },
  {
   "cell_type": "markdown",
   "metadata": {},
   "source": [
    "Imagine a robot. Robot state is described with the following parameters\n",
    "\n",
    "1. $x$, $y$ - robot coordinates,\n",
    "2. $V_x$, $V_y$ - velocities.\n",
    "\n",
    "We can only measure the coordinates of the robot, which should be reflected in the $ H $ matrix.\n",
    "\n",
    "In this homework assignment:\n",
    "- Fill in the matrices for the Kalman filter correctly.\n",
    "- For all three experiments, visualize the dependence of $ x $, $ y $, $ V_x $, $ V_y $ over time.\n",
    "- For all three experiments, visualize the dependence of each component of the gain matrix ($ K $) over time.\n",
    "     - What does the dynamics of changes in its components say?\n",
    "- How much does the velocity uncertainty decrease as a result of each experiment?"
   ]
  },
  {
   "cell_type": "code",
   "execution_count": 1,
   "metadata": {
    "ExecuteTime": {
     "end_time": "2021-10-06T18:43:23.441304Z",
     "start_time": "2021-10-06T18:43:23.228920Z"
    }
   },
   "outputs": [],
   "source": [
    "from collections import defaultdict\n",
    "import numpy as np\n",
    "import matplotlib.pyplot as plt"
   ]
  },
  {
   "cell_type": "markdown",
   "metadata": {},
   "source": [
    "You could edit `kalman_filter` function if you need more info about the process e.g. `x` values over time and so on\n",
    "\n",
    "_Hint:_ to define matrices below function [np.diag](https://numpy.org/doc/stable/reference/generated/numpy.diag.html) is very handy"
   ]
  },
  {
   "cell_type": "code",
   "execution_count": 2,
   "metadata": {},
   "outputs": [],
   "source": [
    "dt = 0.1\n",
    "\n",
    "# initial covariance matrix: 0. for positions x and y, 1000 for the two velocities\n",
    "E = np.diag([0, 0, 1000, 1000])\n",
    "\n",
    "# next state function: 4D\n",
    "F = np.matrix([\n",
    "    [1., 0., dt, 0.],\n",
    "    [0., 1., 0., dt],\n",
    "    [0., 0., 1., 0.],\n",
    "    [0., 0., 0., 1.],\n",
    "])\n",
    "\n",
    "# measurement function: reflect the fact that we observe x and y but not the two velocities\n",
    "H = np.diag([1., 1., 0., 0.])\n",
    "\n",
    "# measurement uncertainty: use 2x2 matrix with 0.1 as main diagonal\n",
    "R = np.diag(np.ones(4)) * 0.1\n",
    "\n",
    "# 4D identity matrix\n",
    "I = np.diag(np.ones(4))"
   ]
  },
  {
   "cell_type": "code",
   "execution_count": 3,
   "metadata": {
    "ExecuteTime": {
     "end_time": "2021-10-06T19:56:50.855904Z",
     "start_time": "2021-10-06T19:56:50.847424Z"
    }
   },
   "outputs": [],
   "source": [
    "def kalman_filter(x, E=E, F=F, H=H, R=R, I=I):\n",
    "    \"\"\"Apply Kalman filter to sequence\n",
    "\n",
    "    Args:\n",
    "        x: initial state space configuration (location and velocity)\n",
    "        E: initial covariance matrix\n",
    "    \"\"\"\n",
    "    hist = defaultdict(list)\n",
    "    for measurement in measurements:\n",
    "        # prediction\n",
    "        x = (F @ x) + u\n",
    "        E = F @ E @ F.T\n",
    "\n",
    "        # measurement update\n",
    "        Z = np.array([*measurement, 0., 0.])[None]\n",
    "        S = H @ E @ H.T + R\n",
    "        K = E @ H.T @ np.linalg.inv(S)\n",
    "        \n",
    "        x = x + (K @ (Z.T - (H @ x)))\n",
    "        E = (I - (K @ H)) @ E\n",
    "        hist['k_gain'].append(K)\n",
    "        hist['state'].append(x)\n",
    "        hist['cov'].append(E)\n",
    "        \n",
    "        print(f\"x= \\n{x}\")\n",
    "        print(f\"E= \\n{E}\")\n",
    "\n",
    "    return hist"
   ]
  },
  {
   "cell_type": "markdown",
   "metadata": {},
   "source": [
    "## First experiment"
   ]
  },
  {
   "cell_type": "code",
   "execution_count": 4,
   "metadata": {},
   "outputs": [],
   "source": [
    "measurements = [[5.0, 10.0], [6.0, 8.0], [7.0, 6.0], [8.0, 4.0], [9.0, 2.0], [10.0, 0.0]]\n",
    "initial_xy = [4.0, 12.0]\n",
    "\n",
    "\n",
    "# initial robot state (location and velocity)\n",
    "x = np.array([[initial_xy[0]], [initial_xy[1]], [0.0], [0.0]])\n",
    "# external motion applied to the robot\n",
    "u = np.array([[0.0], [0.1], [0.0], [0.0]])"
   ]
  },
  {
   "cell_type": "code",
   "execution_count": 5,
   "metadata": {},
   "outputs": [
    {
     "name": "stdout",
     "output_type": "stream",
     "text": [
      "x= \n",
      "[[  4.99009901]\n",
      " [ 10.02079208]\n",
      " [  9.9009901 ]\n",
      " [-20.79207921]]\n",
      "E= \n",
      "[[0.0990099  0.         0.99009901 0.        ]\n",
      " [0.         0.0990099  0.         0.99009901]\n",
      " [0.99009901 0.         9.9009901  0.        ]\n",
      " [0.         0.99009901 0.         9.9009901 ]]\n",
      "x= \n",
      "[[  5.99600798]\n",
      " [  8.00838323]\n",
      " [  9.98003992]\n",
      " [-20.95808383]]\n",
      "E= \n",
      "[[0.07984032 0.         0.3992016  0.        ]\n",
      " [0.         0.07984032 0.         0.3992016 ]\n",
      " [0.3992016  0.         1.99600798 0.        ]\n",
      " [0.         0.3992016  0.         1.99600798]]\n",
      "x= \n",
      "[[  6.99785867]\n",
      " [  6.00449679]\n",
      " [  9.99286224]\n",
      " [-20.98501071]]\n",
      "E= \n",
      "[[0.06423983 0.         0.21413276 0.        ]\n",
      " [0.         0.06423983 0.         0.21413276]\n",
      " [0.21413276 0.         0.71377587 0.        ]\n",
      " [0.         0.21413276 0.         0.71377587]]\n",
      "x= \n",
      "[[  7.99866711]\n",
      " [  4.00279907]\n",
      " [  9.99666778]\n",
      " [-20.99300233]]\n",
      "E= \n",
      "[[0.05331556 0.         0.1332889  0.        ]\n",
      " [0.         0.05331556 0.         0.1332889 ]\n",
      " [0.1332889  0.         0.33322226 0.        ]\n",
      " [0.         0.1332889  0.         0.33322226]]\n",
      "x= \n",
      "[[  8.99909107]\n",
      " [  2.00190874]\n",
      " [  9.99818215]\n",
      " [-20.99618251]]\n",
      "E= \n",
      "[[0.04544628 0.         0.09089256 0.        ]\n",
      " [0.         0.04544628 0.         0.09089256]\n",
      " [0.09089256 0.         0.18178513 0.        ]\n",
      " [0.         0.09089256 0.         0.18178513]]\n",
      "x= \n",
      "[[ 9.99934073e+00]\n",
      " [ 1.38446325e-03]\n",
      " [ 9.99890122e+00]\n",
      " [-2.09976926e+01]]\n",
      "E= \n",
      "[[0.03955609 0.         0.06592682 0.        ]\n",
      " [0.         0.03955609 0.         0.06592682]\n",
      " [0.06592682 0.         0.10987804 0.        ]\n",
      " [0.         0.06592682 0.         0.10987804]]\n"
     ]
    }
   ],
   "source": [
    "log = kalman_filter(x)"
   ]
  },
  {
   "cell_type": "markdown",
   "metadata": {},
   "source": [
    "Visualize the dependence of $ x $, $ y $, $ V_x $, $ V_y $ over time\n",
    "\n",
    "_(It's a good idea to write a function for this, so you could reuse it in the next experiment)_"
   ]
  },
  {
   "cell_type": "code",
   "execution_count": 6,
   "metadata": {},
   "outputs": [],
   "source": [
    "def plot_state(state_log, cov_log, measurements):\n",
    "    names = ['x', 'y', 'vel_x', 'vel_y']\n",
    "    state_hist = np.array(state_log).squeeze().T\n",
    "    cov_hist = np.array([np.diag(c) for c in cov_log]).T\n",
    "    measured_hist = np.array(measurements).T\n",
    "    time_hist = range(len(state_log))\n",
    "    \n",
    "    plot_iter = zip(state_hist, cov_hist, [*measured_hist, None, None], names)\n",
    "    plt.figure(figsize=(10, 5))\n",
    "    for i, (s_hist, err_hist, m_hist, name) in enumerate(plot_iter):\n",
    "        plt.subplot(2, 2, i + 1)\n",
    "        plt.errorbar(time_hist, s_hist, yerr=err_hist, label=f'expected {name}')\n",
    "        \n",
    "        if m_hist is not None:\n",
    "            plt.plot(time_hist, m_hist, label=f'measured {name}')\n",
    "        \n",
    "    plt.legend()\n",
    "    plt.tight_layout()\n",
    "    \n",
    "def plot_gain(gain_log):\n",
    "    assert_gain_structure(gain_log)\n",
    "    x_gain = np.array(gain_log)[:, 0, 0]\n",
    "    vel_x_gain = np.array(gain_log)[:, 2, 0]\n",
    "    time_hist = range(len(gain_log))\n",
    "    \n",
    "    plt.figure(figsize=(10, 2.5))\n",
    "    plt.subplot(1, 2, 1)\n",
    "    plt.plot(time_hist, x_gain, label='K for x')\n",
    "    print(f'min x gain: {min(x_gain)}')\n",
    "    \n",
    "    plt.subplot(1, 2, 2)\n",
    "    plt.plot(time_hist, vel_x_gain, label='K for vel_x')\n",
    "    print(f'min vel x gain: {min(vel_x_gain)}')\n",
    "    \n",
    "    plt.legend()\n",
    "    plt.tight_layout\n",
    "    \n",
    "\n",
    "def assert_gain_structure(gain_log):\n",
    "    x_gain = np.array(gain_log)[:, ::2, 0]\n",
    "    y_gain = np.array(gain_log)[:, 1::2, 1]\n",
    "    assert np.allclose(x_gain, y_gain)"
   ]
  },
  {
   "cell_type": "code",
   "execution_count": 7,
   "metadata": {},
   "outputs": [
    {
     "data": {
      "image/png": "[encoded data removed]",
      "text/plain": [
       "<Figure size 720x360 with 4 Axes>"
      ]
     },
     "metadata": {
      "needs_background": "light"
     },
     "output_type": "display_data"
    }
   ],
   "source": [
    "plot_state(log['state'], log['cov'], measurements)"
   ]
  },
  {
   "cell_type": "markdown",
   "metadata": {},
   "source": [
    "Visualize the components of the $ K $ matrix below"
   ]
  },
  {
   "cell_type": "code",
   "execution_count": 8,
   "metadata": {},
   "outputs": [
    {
     "name": "stdout",
     "output_type": "stream",
     "text": [
      "min x gain: 0.3955609273706197\n",
      "min vel x gain: 0.6592682122843708\n"
     ]
    },
    {
     "data": {
      "image/png": "[encoded data removed]",
      "text/plain": [
       "<Figure size 720x180 with 2 Axes>"
      ]
     },
     "metadata": {
      "needs_background": "light"
     },
     "output_type": "display_data"
    }
   ],
   "source": [
    "plot_gain(log['k_gain'])"
   ]
  },
  {
   "cell_type": "markdown",
   "metadata": {},
   "source": [
    "## Second experiment"
   ]
  },
  {
   "cell_type": "code",
   "execution_count": 9,
   "metadata": {},
   "outputs": [],
   "source": [
    "measurements = [[1.0, 4.0], [6.0, 0.0], [11.0, -4.0], [16.0, -8.0]]\n",
    "initial_xy = [-4.0, 8.0]\n",
    "\n",
    "# initial robot state (location and velocity)\n",
    "x = np.array([[initial_xy[0]], [initial_xy[1]], [0.0], [0.0]])\n",
    "# external motion applied to the robot\n",
    "u = np.array([[0.0], [0.1], [0.0], [0.0]])"
   ]
  },
  {
   "cell_type": "code",
   "execution_count": 10,
   "metadata": {},
   "outputs": [
    {
     "name": "stdout",
     "output_type": "stream",
     "text": [
      "x= \n",
      "[[  0.95049505]\n",
      " [  4.04059406]\n",
      " [ 49.5049505 ]\n",
      " [-40.59405941]]\n",
      "E= \n",
      "[[0.0990099  0.         0.99009901 0.        ]\n",
      " [0.         0.0990099  0.         0.99009901]\n",
      " [0.99009901 0.         9.9009901  0.        ]\n",
      " [0.         0.99009901 0.         9.9009901 ]]\n",
      "x= \n",
      "[[ 5.98003992e+00]\n",
      " [ 1.63672655e-02]\n",
      " [ 4.99001996e+01]\n",
      " [-4.09181637e+01]]\n",
      "E= \n",
      "[[0.07984032 0.         0.3992016  0.        ]\n",
      " [0.         0.07984032 0.         0.3992016 ]\n",
      " [0.3992016  0.         1.99600798 0.        ]\n",
      " [0.         0.3992016  0.         1.99600798]]\n",
      "x= \n",
      "[[ 10.98929336]\n",
      " [ -3.99122056]\n",
      " [ 49.96431121]\n",
      " [-40.97073519]]\n",
      "E= \n",
      "[[0.06423983 0.         0.21413276 0.        ]\n",
      " [0.         0.06423983 0.         0.21413276]\n",
      " [0.21413276 0.         0.71377587 0.        ]\n",
      " [0.         0.21413276 0.         0.71377587]]\n",
      "x= \n",
      "[[ 15.99333555]\n",
      " [ -7.99453515]\n",
      " [ 49.98333889]\n",
      " [-40.98633789]]\n",
      "E= \n",
      "[[0.05331556 0.         0.1332889  0.        ]\n",
      " [0.         0.05331556 0.         0.1332889 ]\n",
      " [0.1332889  0.         0.33322226 0.        ]\n",
      " [0.         0.1332889  0.         0.33322226]]\n"
     ]
    }
   ],
   "source": [
    "log = kalman_filter(x, E)"
   ]
  },
  {
   "cell_type": "markdown",
   "metadata": {},
   "source": [
    "Visualize the dependence of $ x $, $ y $, $ V_x $, $ V_y $ over time"
   ]
  },
  {
   "cell_type": "code",
   "execution_count": 11,
   "metadata": {},
   "outputs": [
    {
     "data": {
      "image/png": "[encoded data removed]",
      "text/plain": [
       "<Figure size 720x360 with 4 Axes>"
      ]
     },
     "metadata": {
      "needs_background": "light"
     },
     "output_type": "display_data"
    }
   ],
   "source": [
    "plot_state(log['state'], log['cov'], measurements)"
   ]
  },
  {
   "cell_type": "markdown",
   "metadata": {},
   "source": [
    "Visualize the components of the $ K $ matrix below"
   ]
  },
  {
   "cell_type": "code",
   "execution_count": 12,
   "metadata": {},
   "outputs": [
    {
     "name": "stdout",
     "output_type": "stream",
     "text": [
      "min x gain: 0.5331556147950691\n",
      "min vel x gain: 1.332889036987678\n"
     ]
    },
    {
     "data": {
      "image/png": "[encoded data removed]",
      "text/plain": [
       "<Figure size 720x180 with 2 Axes>"
      ]
     },
     "metadata": {
      "needs_background": "light"
     },
     "output_type": "display_data"
    }
   ],
   "source": [
    "plot_gain(log['k_gain'])"
   ]
  },
  {
   "cell_type": "markdown",
   "metadata": {},
   "source": [
    "## Third Experiment"
   ]
  },
  {
   "cell_type": "code",
   "execution_count": 13,
   "metadata": {},
   "outputs": [],
   "source": [
    "measurements = [[1.0, 17.0], [1.0, 15.0], [1.0, 13.0], [1.0, 11.0]]\n",
    "initial_xy = [1.0, 19.0]\n",
    "\n",
    "dt = 0.1\n",
    "\n",
    "# initial robot state (location and velocity)\n",
    "x = np.array([[initial_xy[0]], [initial_xy[1]], [0.0], [0.0]])\n",
    "# external motion applied to the robot\n",
    "u = np.array([[0.0], [0.1], [0.0], [0.0]])"
   ]
  },
  {
   "cell_type": "code",
   "execution_count": 14,
   "metadata": {},
   "outputs": [
    {
     "name": "stdout",
     "output_type": "stream",
     "text": [
      "x= \n",
      "[[  1.        ]\n",
      " [ 17.02079208]\n",
      " [  0.        ]\n",
      " [-20.79207921]]\n",
      "E= \n",
      "[[0.0990099  0.         0.99009901 0.        ]\n",
      " [0.         0.0990099  0.         0.99009901]\n",
      " [0.99009901 0.         9.9009901  0.        ]\n",
      " [0.         0.99009901 0.         9.9009901 ]]\n",
      "x= \n",
      "[[  1.        ]\n",
      " [ 15.00838323]\n",
      " [  0.        ]\n",
      " [-20.95808383]]\n",
      "E= \n",
      "[[0.07984032 0.         0.3992016  0.        ]\n",
      " [0.         0.07984032 0.         0.3992016 ]\n",
      " [0.3992016  0.         1.99600798 0.        ]\n",
      " [0.         0.3992016  0.         1.99600798]]\n",
      "x= \n",
      "[[  1.        ]\n",
      " [ 13.00449679]\n",
      " [  0.        ]\n",
      " [-20.98501071]]\n",
      "E= \n",
      "[[0.06423983 0.         0.21413276 0.        ]\n",
      " [0.         0.06423983 0.         0.21413276]\n",
      " [0.21413276 0.         0.71377587 0.        ]\n",
      " [0.         0.21413276 0.         0.71377587]]\n",
      "x= \n",
      "[[  1.        ]\n",
      " [ 11.00279907]\n",
      " [  0.        ]\n",
      " [-20.99300233]]\n",
      "E= \n",
      "[[0.05331556 0.         0.1332889  0.        ]\n",
      " [0.         0.05331556 0.         0.1332889 ]\n",
      " [0.1332889  0.         0.33322226 0.        ]\n",
      " [0.         0.1332889  0.         0.33322226]]\n"
     ]
    }
   ],
   "source": [
    "log = kalman_filter(x, E)"
   ]
  },
  {
   "cell_type": "markdown",
   "metadata": {},
   "source": [
    "Visualize the dependence of $ x $, $ y $, $ V_x $, $ V_y $ over time"
   ]
  },
  {
   "cell_type": "code",
   "execution_count": 15,
   "metadata": {},
   "outputs": [
    {
     "data": {
      "image/png": "[encoded data removed]",
      "text/plain": [
       "<Figure size 720x360 with 4 Axes>"
      ]
     },
     "metadata": {
      "needs_background": "light"
     },
     "output_type": "display_data"
    }
   ],
   "source": [
    "plot_state(log['state'], log['cov'], measurements)"
   ]
  },
  {
   "cell_type": "markdown",
   "metadata": {},
   "source": [
    "Visualize the components of the $ K $ matrix below"
   ]
  },
  {
   "cell_type": "code",
   "execution_count": 16,
   "metadata": {},
   "outputs": [
    {
     "name": "stdout",
     "output_type": "stream",
     "text": [
      "min x gain: 0.5331556147950691\n",
      "min vel x gain: 1.332889036987678\n"
     ]
    },
    {
     "data": {
      "image/png": "[encoded data removed]",
      "text/plain": [
       "<Figure size 720x180 with 2 Axes>"
      ]
     },
     "metadata": {
      "needs_background": "light"
     },
     "output_type": "display_data"
    }
   ],
   "source": [
    "plot_gain(log['k_gain'])"
   ]
  },
  {
   "cell_type": "markdown",
   "metadata": {},
   "source": [
    "## Conclusions\n",
    "\n",
    "Don't forget to put your thoughts on the experiments above.\n",
    "\n",
    "Questions to stimulate thoughts could be found in the beginning of the notebook =)"
   ]
  },
  {
   "cell_type": "markdown",
   "metadata": {},
   "source": [
    "По формулам выходит так, что изменение матрицы ковариации зависит только от гипперпараметров алгоритмов и не зависит от измерений "
   ]
  },
  {
   "cell_type": "code",
   "execution_count": 17,
   "metadata": {},
   "outputs": [],
   "source": [
    "def iterate_gain(n, E=E, F=F, H=H, R=R, I=I):\n",
    "    log = defaultdict(list)\n",
    "    for _ in range(n):\n",
    "        E = F @ E @ F.T\n",
    "        S = H @ E @ H.T + R\n",
    "        K = E @ H.T @ np.linalg.inv(S)\n",
    "        E = (I - (K @ H)) @ E\n",
    "        log['gain'].append(K)\n",
    "        log['s'].append(S)\n",
    "        log['cov'].append(E)\n",
    "    return log\n"
   ]
  },
  {
   "cell_type": "code",
   "execution_count": 18,
   "metadata": {},
   "outputs": [
    {
     "name": "stdout",
     "output_type": "stream",
     "text": [
      "min x gain: 0.029555193451895088\n",
      "min vel x gain: 0.002955519345189895\n"
     ]
    },
    {
     "data": {
      "image/png": "[encoded data removed]",
      "text/plain": [
       "<Figure size 720x180 with 2 Axes>"
      ]
     },
     "metadata": {
      "needs_background": "light"
     },
     "output_type": "display_data"
    }
   ],
   "source": [
    "gain_change = iterate_gain(100)\n",
    "\n",
    "plot_gain(gain_change['gain'])"
   ]
  },
  {
   "cell_type": "markdown",
   "metadata": {},
   "source": [
    "С текущими параметрами в некоторый момент ожидаемое состояние перестанет зависить от измеренного состояния. Т.о. в какой-то момент мы будем полностью полагаться на модель"
   ]
  },
  {
   "cell_type": "code",
   "execution_count": 19,
   "metadata": {},
   "outputs": [
    {
     "name": "stdout",
     "output_type": "stream",
     "text": [
      "R_scale: 0.001\t\tmin x gain: 0.0296\tmin vel x gain: 0.0030\n",
      "R_scale: 0.01\t\tmin x gain: 0.0296\tmin vel x gain: 0.0030\n",
      "R_scale: 0.1\t\tmin x gain: 0.0296\tmin vel x gain: 0.0030\n",
      "R_scale: 1.0\t\tmin x gain: 0.0296\tmin vel x gain: 0.0030\n",
      "R_scale: 10.0\t\tmin x gain: 0.0296\tmin vel x gain: 0.0030\n",
      "R_scale: 100.0\t\tmin x gain: 0.0296\tmin vel x gain: 0.0030\n",
      "R_scale: 1000.0\t\tmin x gain: 0.0099\tmin vel x gain: 0.0030\n",
      "R_scale: 10000.0\t\tmin x gain: 0.0010\tmin vel x gain: 0.0029\n"
     ]
    }
   ],
   "source": [
    "for i in np.geomspace(0.001, 10000, 8):\n",
    "    gain_log = iterate_gain(100, R=np.diag(np.ones(4)*i))['gain']\n",
    "    x_gain = np.array(gain_log)[:, 0, 0]\n",
    "    vel_x_gain = np.array(gain_log)[:, 2, 0]\n",
    "    print(f'R_scale: {i}\\t\\t', end='')\n",
    "    print(f'min x gain: {min(x_gain):.4f}\\t', end='')\n",
    "    print(f'min vel x gain: {min(vel_x_gain):.4f}')"
   ]
  },
  {
   "cell_type": "code",
   "execution_count": 20,
   "metadata": {},
   "outputs": [
    {
     "name": "stdout",
     "output_type": "stream",
     "text": [
      "R_scale: 0.001\t\tmin x gain: 0.0100\tmin vel x gain: 0.0010\n",
      "R_scale: 0.01\t\tmin x gain: 0.0363\tmin vel x gain: 0.0050\n",
      "R_scale: 0.1\t\tmin x gain: 0.0390\tmin vel x gain: 0.0058\n",
      "R_scale: 1.0\t\tmin x gain: 0.0394\tmin vel x gain: 0.0059\n",
      "R_scale: 10.0\t\tmin x gain: 0.0394\tmin vel x gain: 0.0059\n",
      "R_scale: 100.0\t\tmin x gain: 0.0394\tmin vel x gain: 0.0059\n",
      "R_scale: 1000.0\t\tmin x gain: 0.0394\tmin vel x gain: 0.0059\n",
      "R_scale: 10000.0\t\tmin x gain: 0.0394\tmin vel x gain: 0.0059\n"
     ]
    }
   ],
   "source": [
    "for i in np.geomspace(0.001, 10000, 8):\n",
    "    gain_log = iterate_gain(100, E=np.diag(np.ones(4)*i))['gain']\n",
    "    x_gain = np.array(gain_log)[:, 0, 0]\n",
    "    vel_x_gain = np.array(gain_log)[:, 2, 0]\n",
    "    print(f'R_scale: {i}\\t\\t', end='')\n",
    "    print(f'min x gain: {min(x_gain):.4f}\\t', end='')\n",
    "    print(f'min vel x gain: {min(vel_x_gain):.4f}')"
   ]
  },
  {
   "cell_type": "markdown",
   "metadata": {},
   "source": [
    "Изменение значений на диагонали $R$ и $E$ на минимум $K$ не особо повлияло. Насколько я понимаю, это связано с отсутствием матрицы $Q$. Также из-за этого (наверное) и затухает uncertainty, что конечно неестественно."
   ]
  }
 ],
 "metadata": {
  "kernelspec": {
   "display_name": "Python 3",
   "language": "python",
   "name": "python3"
  },
  "language_info": {
   "codemirror_mode": {
    "name": "ipython",
    "version": 3
   },
   "file_extension": ".py",
   "mimetype": "text/x-python",
   "name": "python",
   "nbconvert_exporter": "python",
   "pygments_lexer": "ipython3",
   "version": "3.7.3"
  },
  "toc": {
   "base_numbering": 1,
   "nav_menu": {},
   "number_sections": true,
   "sideBar": true,
   "skip_h1_title": false,
   "title_cell": "Table of Contents",
   "title_sidebar": "Contents",
   "toc_cell": false,
   "toc_position": {},
   "toc_section_display": true,
   "toc_window_display": true
  }
 },
 "nbformat": 4,
 "nbformat_minor": 2
}
